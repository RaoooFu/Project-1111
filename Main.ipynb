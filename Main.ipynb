{
 "cells": [
  {
   "cell_type": "markdown",
   "id": "c74ceab4-e1a4-4ac7-b7d1-4243eb4adba2",
   "metadata": {},
   "source": [
    "## Main Project Notebook\n",
    "\n",
    "[url:]\n",
    "\n",
    "[link to presentation]\n",
    "\n"
   ]
  }
 ],
 "metadata": {
  "kernelspec": {
   "display_name": "Python [conda env:base] *",
   "language": "python",
   "name": "conda-base-py"
  },
  "language_info": {
   "codemirror_mode": {
    "name": "ipython",
    "version": 3
   },
   "file_extension": ".py",
   "mimetype": "text/x-python",
   "name": "python",
   "nbconvert_exporter": "python",
   "pygments_lexer": "ipython3",
   "version": "3.12.7"
  }
 },
 "nbformat": 4,
 "nbformat_minor": 5
}
